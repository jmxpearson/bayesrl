{
 "cells": [
  {
   "cell_type": "code",
   "execution_count": 1,
   "metadata": {
    "collapsed": true
   },
   "outputs": [],
   "source": [
    "import numpy as np\n",
    "import pandas as pd\n",
    "import matplotlib.pyplot as plt\n",
    "import seaborn as sns\n",
    "import psis\n",
    "%matplotlib inline"
   ]
  },
  {
   "cell_type": "code",
   "execution_count": 2,
   "metadata": {
    "collapsed": false
   },
   "outputs": [],
   "source": [
    "lp_samples = pd.read_excel('results.xlsx', sheet_name='Log posterior samples')"
   ]
  },
  {
   "cell_type": "code",
   "execution_count": 3,
   "metadata": {
    "collapsed": false
   },
   "outputs": [
    {
     "data": {
      "text/plain": [
       "(2000, 4400)"
      ]
     },
     "execution_count": 3,
     "metadata": {},
     "output_type": "execute_result"
    }
   ],
   "source": [
    "lp_samples.shape"
   ]
  },
  {
   "cell_type": "code",
   "execution_count": 4,
   "metadata": {
    "collapsed": true
   },
   "outputs": [],
   "source": [
    "data = pd.read_csv('data/MemRL_BIAC_fMRItest_05.05.15_FINALdata_cleaned.csv')"
   ]
  },
  {
   "cell_type": "code",
   "execution_count": 5,
   "metadata": {
    "collapsed": false
   },
   "outputs": [
    {
     "data": {
      "text/plain": [
       "(4400, 11)"
      ]
     },
     "execution_count": 5,
     "metadata": {},
     "output_type": "execute_result"
    }
   ],
   "source": [
    "data['Task Condition'] = pd.Categorical.from_codes(data['DelayCond'] - 1, categories=['Immediate', 'Delayed'])\n",
    "data['Group'] = pd.Categorical.from_codes(data['AgeGroup'] - 1, categories=['Younger Adults', 'Older Adults'])\n",
    "data.shape"
   ]
  },
  {
   "cell_type": "code",
   "execution_count": 6,
   "metadata": {
    "collapsed": false
   },
   "outputs": [
    {
     "data": {
      "text/html": [
       "<div>\n",
       "<style scoped>\n",
       "    .dataframe tbody tr th:only-of-type {\n",
       "        vertical-align: middle;\n",
       "    }\n",
       "\n",
       "    .dataframe tbody tr th {\n",
       "        vertical-align: top;\n",
       "    }\n",
       "\n",
       "    .dataframe thead th {\n",
       "        text-align: right;\n",
       "    }\n",
       "</style>\n",
       "<table border=\"1\" class=\"dataframe\">\n",
       "  <thead>\n",
       "    <tr style=\"text-align: right;\">\n",
       "      <th></th>\n",
       "      <th>SubjNum</th>\n",
       "      <th>AgeGroup</th>\n",
       "      <th>TrialNum</th>\n",
       "      <th>RunNum</th>\n",
       "      <th>DelayCond</th>\n",
       "      <th>Outcome</th>\n",
       "      <th>Chosen</th>\n",
       "      <th>Unchosen</th>\n",
       "      <th>Trial</th>\n",
       "      <th>Task Condition</th>\n",
       "      <th>Group</th>\n",
       "    </tr>\n",
       "  </thead>\n",
       "  <tbody>\n",
       "    <tr>\n",
       "      <th>0</th>\n",
       "      <td>1</td>\n",
       "      <td>1</td>\n",
       "      <td>1</td>\n",
       "      <td>1</td>\n",
       "      <td>1</td>\n",
       "      <td>1.0</td>\n",
       "      <td>6.0</td>\n",
       "      <td>7</td>\n",
       "      <td>1</td>\n",
       "      <td>Immediate</td>\n",
       "      <td>Younger Adults</td>\n",
       "    </tr>\n",
       "    <tr>\n",
       "      <th>1</th>\n",
       "      <td>1</td>\n",
       "      <td>1</td>\n",
       "      <td>2</td>\n",
       "      <td>1</td>\n",
       "      <td>1</td>\n",
       "      <td>0.0</td>\n",
       "      <td>7.0</td>\n",
       "      <td>6</td>\n",
       "      <td>2</td>\n",
       "      <td>Immediate</td>\n",
       "      <td>Younger Adults</td>\n",
       "    </tr>\n",
       "    <tr>\n",
       "      <th>2</th>\n",
       "      <td>1</td>\n",
       "      <td>1</td>\n",
       "      <td>3</td>\n",
       "      <td>1</td>\n",
       "      <td>2</td>\n",
       "      <td>0.0</td>\n",
       "      <td>5.0</td>\n",
       "      <td>3</td>\n",
       "      <td>3</td>\n",
       "      <td>Delayed</td>\n",
       "      <td>Younger Adults</td>\n",
       "    </tr>\n",
       "    <tr>\n",
       "      <th>3</th>\n",
       "      <td>1</td>\n",
       "      <td>1</td>\n",
       "      <td>4</td>\n",
       "      <td>1</td>\n",
       "      <td>1</td>\n",
       "      <td>1.0</td>\n",
       "      <td>7.0</td>\n",
       "      <td>6</td>\n",
       "      <td>4</td>\n",
       "      <td>Immediate</td>\n",
       "      <td>Younger Adults</td>\n",
       "    </tr>\n",
       "    <tr>\n",
       "      <th>4</th>\n",
       "      <td>1</td>\n",
       "      <td>1</td>\n",
       "      <td>5</td>\n",
       "      <td>1</td>\n",
       "      <td>1</td>\n",
       "      <td>0.0</td>\n",
       "      <td>7.0</td>\n",
       "      <td>6</td>\n",
       "      <td>5</td>\n",
       "      <td>Immediate</td>\n",
       "      <td>Younger Adults</td>\n",
       "    </tr>\n",
       "  </tbody>\n",
       "</table>\n",
       "</div>"
      ],
      "text/plain": [
       "   SubjNum  AgeGroup  TrialNum  RunNum  DelayCond  Outcome  Chosen  Unchosen  \\\n",
       "0        1         1         1       1          1      1.0     6.0         7   \n",
       "1        1         1         2       1          1      0.0     7.0         6   \n",
       "2        1         1         3       1          2      0.0     5.0         3   \n",
       "3        1         1         4       1          1      1.0     7.0         6   \n",
       "4        1         1         5       1          1      0.0     7.0         6   \n",
       "\n",
       "   Trial Task Condition           Group  \n",
       "0      1      Immediate  Younger Adults  \n",
       "1      2      Immediate  Younger Adults  \n",
       "2      3        Delayed  Younger Adults  \n",
       "3      4      Immediate  Younger Adults  \n",
       "4      5      Immediate  Younger Adults  "
      ]
     },
     "execution_count": 6,
     "metadata": {},
     "output_type": "execute_result"
    }
   ],
   "source": [
    "data.head()"
   ]
  },
  {
   "cell_type": "markdown",
   "metadata": {},
   "source": [
    "Now drop rows in `data` and `lp_samples` corresponding to missing trials (no choice made):"
   ]
  },
  {
   "cell_type": "code",
   "execution_count": 7,
   "metadata": {
    "collapsed": false
   },
   "outputs": [
    {
     "data": {
      "text/plain": [
       "(4330, 11)"
      ]
     },
     "execution_count": 7,
     "metadata": {},
     "output_type": "execute_result"
    }
   ],
   "source": [
    "data = data.dropna()\n",
    "data.shape"
   ]
  },
  {
   "cell_type": "code",
   "execution_count": 8,
   "metadata": {
    "collapsed": false
   },
   "outputs": [
    {
     "data": {
      "text/plain": [
       "(2000, 4330)"
      ]
     },
     "execution_count": 8,
     "metadata": {},
     "output_type": "execute_result"
    }
   ],
   "source": [
    "lp_samples = lp_samples.dropna(axis=1)\n",
    "lp_samples.shape"
   ]
  },
  {
   "cell_type": "markdown",
   "metadata": {},
   "source": [
    "# Model comparison\n",
    "\n",
    "Estimate log predicted probability, $\\log p(y_{\\mathrm{new}}|y_{\\mathrm{observed}})$, on new data via leave one out (LOO) cross-validation. Uses the method of [Vehtari, Gelman, and Gabry](http://www.stat.columbia.edu/~gelman/research/unpublished/loo_stan.pdf) as implemented [in this code](https://github.com/avehtari/PSIS). \n",
    "\n",
    "The code returns the LOO estimate for each data point, which is a measure of how likely we expect each observation to be under a model trained using all other data. We'll examine how these estimates differ between age groups and conditions."
   ]
  },
  {
   "cell_type": "code",
   "execution_count": 9,
   "metadata": {
    "collapsed": false
   },
   "outputs": [],
   "source": [
    "loo = psis.psisloo(lp_samples.values)\n",
    "\n",
    "data['loo'] = loo[1]"
   ]
  },
  {
   "cell_type": "markdown",
   "metadata": {},
   "source": [
    "Make a plot. Error bars are bootstrapped 95% confidence intervals."
   ]
  },
  {
   "cell_type": "code",
   "execution_count": 10,
   "metadata": {
    "collapsed": false
   },
   "outputs": [
    {
     "name": "stderr",
     "output_type": "stream",
     "text": [
      "/Users/jmxp/anaconda/lib/python3.5/site-packages/seaborn/categorical.py:1468: FutureWarning: remove_na is deprecated and is a private function. Do not use.\n",
      "  stat_data = remove_na(group_data[hue_mask])\n"
     ]
    },
    {
     "data": {
      "image/png": "[encoded data removed]",
      "text/plain": [
       "<matplotlib.figure.Figure at 0x108927240>"
      ]
     },
     "metadata": {},
     "output_type": "display_data"
    }
   ],
   "source": [
    "ax = sns.pointplot(data=data, hue='Group', y='loo', x='Task Condition')\n",
    "plt.ylabel('Log predicted probability per data point');"
   ]
  },
  {
   "cell_type": "markdown",
   "metadata": {},
   "source": [
    "# Predictive probability\n",
    "\n",
    "Log probabilities are hard to reason about. Here, we translate the average log probability into a probability. (**Note:** this is not the same as the average predicted probability. With logs and averages, order matters.)"
   ]
  },
  {
   "cell_type": "code",
   "execution_count": 11,
   "metadata": {
    "collapsed": false
   },
   "outputs": [
    {
     "data": {
      "text/html": [
       "<div>\n",
       "<style scoped>\n",
       "    .dataframe tbody tr th:only-of-type {\n",
       "        vertical-align: middle;\n",
       "    }\n",
       "\n",
       "    .dataframe tbody tr th {\n",
       "        vertical-align: top;\n",
       "    }\n",
       "\n",
       "    .dataframe thead th {\n",
       "        text-align: right;\n",
       "    }\n",
       "</style>\n",
       "<table border=\"1\" class=\"dataframe\">\n",
       "  <thead>\n",
       "    <tr style=\"text-align: right;\">\n",
       "      <th></th>\n",
       "      <th>Group</th>\n",
       "      <th>Task Condition</th>\n",
       "      <th>loo</th>\n",
       "    </tr>\n",
       "  </thead>\n",
       "  <tbody>\n",
       "    <tr>\n",
       "      <th>0</th>\n",
       "      <td>Younger Adults</td>\n",
       "      <td>Immediate</td>\n",
       "      <td>0.694611</td>\n",
       "    </tr>\n",
       "    <tr>\n",
       "      <th>1</th>\n",
       "      <td>Younger Adults</td>\n",
       "      <td>Delayed</td>\n",
       "      <td>0.716119</td>\n",
       "    </tr>\n",
       "    <tr>\n",
       "      <th>2</th>\n",
       "      <td>Older Adults</td>\n",
       "      <td>Immediate</td>\n",
       "      <td>0.651337</td>\n",
       "    </tr>\n",
       "    <tr>\n",
       "      <th>3</th>\n",
       "      <td>Older Adults</td>\n",
       "      <td>Delayed</td>\n",
       "      <td>0.647055</td>\n",
       "    </tr>\n",
       "  </tbody>\n",
       "</table>\n",
       "</div>"
      ],
      "text/plain": [
       "            Group Task Condition       loo\n",
       "0  Younger Adults      Immediate  0.694611\n",
       "1  Younger Adults        Delayed  0.716119\n",
       "2    Older Adults      Immediate  0.651337\n",
       "3    Older Adults        Delayed  0.647055"
      ]
     },
     "execution_count": 11,
     "metadata": {},
     "output_type": "execute_result"
    }
   ],
   "source": [
    "np.exp(data.groupby(['Group', 'Task Condition'])['loo'].mean()).reset_index()"
   ]
  },
  {
   "cell_type": "markdown",
   "metadata": {},
   "source": [
    "# Tests\n",
    "\n",
    "Test for differences in the LOO value across groups, conditions."
   ]
  },
  {
   "cell_type": "code",
   "execution_count": 12,
   "metadata": {
    "collapsed": true
   },
   "outputs": [],
   "source": [
    "import scipy.stats as stats"
   ]
  },
  {
   "cell_type": "code",
   "execution_count": 13,
   "metadata": {
    "collapsed": true
   },
   "outputs": [],
   "source": [
    "def bootci(arr, n_samples=1000, ci=0.95):\n",
    "    # assumes arr is 1d\n",
    "    N = arr.size\n",
    "    samples = np.random.choice(arr, (n_samples, N))\n",
    "    means = np.mean(samples, axis=1)\n",
    "    sorted_means = np.sort(means)\n",
    "    half_alpha = (1 - ci)/2\n",
    "    lower_ind = int(np.floor(half_alpha * n_samples))\n",
    "    upper_ind = int(np.ceil((1 - half_alpha) * n_samples))\n",
    "    \n",
    "    tup = (np.mean(arr), (sorted_means[lower_ind], sorted_means[upper_ind]))\n",
    "    print(\"Mean: {:.3f}, {:.0f}% CI: ({:.3f}, {:.3f})\".format(tup[0], ci * 100, tup[1][0], tup[1][1]))\n",
    "    \n",
    "    return tup"
   ]
  },
  {
   "cell_type": "code",
   "execution_count": 14,
   "metadata": {
    "collapsed": false
   },
   "outputs": [
    {
     "name": "stdout",
     "output_type": "stream",
     "text": [
      "Mean: -0.349, 95% CI: (-0.376, -0.324)\n",
      "Mean: -0.432, 95% CI: (-0.453, -0.409)\n"
     ]
    },
    {
     "data": {
      "text/plain": [
       "MannwhitneyuResult(statistic=1931873.0, pvalue=2.2728583343306998e-23)"
      ]
     },
     "execution_count": 14,
     "metadata": {},
     "output_type": "execute_result"
    }
   ],
   "source": [
    "bootci(data.loc[data.AgeGroup == 1, 'loo']);\n",
    "bootci(data.loc[data.AgeGroup == 2, 'loo']);\n",
    "stats.mannwhitneyu(data.loc[data.AgeGroup == 1, 'loo'], \n",
    "                   data.loc[data.AgeGroup == 2, 'loo'])"
   ]
  },
  {
   "cell_type": "code",
   "execution_count": 15,
   "metadata": {
    "collapsed": false
   },
   "outputs": [
    {
     "name": "stdout",
     "output_type": "stream",
     "text": [
      "Mean: -0.364, 95% CI: (-0.399, -0.330)\n",
      "Mean: -0.429, 95% CI: (-0.460, -0.399)\n"
     ]
    },
    {
     "data": {
      "text/plain": [
       "MannwhitneyuResult(statistic=489597.0, pvalue=3.2460450543096603e-11)"
      ]
     },
     "execution_count": 15,
     "metadata": {},
     "output_type": "execute_result"
    }
   ],
   "source": [
    "bootci(data.loc[(data.AgeGroup == 1) & (data.DelayCond == 1), 'loo']);\n",
    "bootci(data.loc[(data.AgeGroup == 2) & (data.DelayCond == 1), 'loo']);\n",
    "stats.mannwhitneyu(data.loc[(data.AgeGroup == 1) & (data.DelayCond == 1), 'loo'], \n",
    "                   data.loc[(data.AgeGroup == 2) & (data.DelayCond == 1), 'loo'])"
   ]
  },
  {
   "cell_type": "code",
   "execution_count": 16,
   "metadata": {
    "collapsed": false
   },
   "outputs": [
    {
     "name": "stdout",
     "output_type": "stream",
     "text": [
      "Mean: -0.334, 95% CI: (-0.372, -0.299)\n",
      "Mean: -0.435, 95% CI: (-0.464, -0.406)\n"
     ]
    },
    {
     "data": {
      "text/plain": [
       "MannwhitneyuResult(statistic=476768.0, pvalue=5.6411607056875493e-14)"
      ]
     },
     "execution_count": 16,
     "metadata": {},
     "output_type": "execute_result"
    }
   ],
   "source": [
    "bootci(data.loc[(data.AgeGroup == 1) & (data.DelayCond == 2), 'loo']);\n",
    "bootci(data.loc[(data.AgeGroup == 2) & (data.DelayCond == 2), 'loo']);\n",
    "stats.mannwhitneyu(data.loc[(data.AgeGroup == 1) & (data.DelayCond == 2), 'loo'], \n",
    "                   data.loc[(data.AgeGroup == 2) & (data.DelayCond == 2), 'loo'])"
   ]
  },
  {
   "cell_type": "code",
   "execution_count": null,
   "metadata": {
    "collapsed": true
   },
   "outputs": [],
   "source": []
  }
 ],
 "metadata": {
  "anaconda-cloud": {},
  "kernelspec": {
   "display_name": "Python [Root]",
   "language": "python",
   "name": "Python [Root]"
  },
  "language_info": {
   "codemirror_mode": {
    "name": "ipython",
    "version": 3
   },
   "file_extension": ".py",
   "mimetype": "text/x-python",
   "name": "python",
   "nbconvert_exporter": "python",
   "pygments_lexer": "ipython3",
   "version": "3.5.2"
  }
 },
 "nbformat": 4,
 "nbformat_minor": 0
}
